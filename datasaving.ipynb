{
 "cells": [
  {
   "cell_type": "code",
   "execution_count": 37,
   "metadata": {},
   "outputs": [
    {
     "name": "stderr",
     "output_type": "stream",
     "text": [
      "C:\\Users\\mvspr\\AppData\\Local\\Temp\\ipykernel_20744\\2227540013.py:4: DeprecationWarning: executable_path has been deprecated, please pass in a Service object\n",
      "  driver = webdriver.Chrome(\"S:\\Projects/anime\\chromedriver\\chromedriver_win32\\chromedriver.exe\")\n"
     ]
    }
   ],
   "source": [
    "from selenium import webdriver\n",
    "from selenium.webdriver.support.ui import WebDriverWait\n",
    "\n",
    "driver = webdriver.Chrome(\"S:\\Projects/anime\\chromedriver\\chromedriver_win32\\chromedriver.exe\")\n",
    "wait = WebDriverWait(driver, 5)"
   ]
  },
  {
   "cell_type": "code",
   "execution_count": 38,
   "metadata": {},
   "outputs": [],
   "source": [
    "from selenium.webdriver.common.by import By\n",
    "\n",
    "links = []\n",
    "for rank in range(0,300,50):\n",
    "    driver.get('https://myanimelist.net/topanime.php?type=bypopularity&limit='+str(rank))\n",
    "    link = driver.find_elements(By.CSS_SELECTOR, 'div[class=\"detail\"] h3 a')\n",
    "    for item in link:\n",
    "        links.append(item.get_attribute('href'))"
   ]
  },
  {
   "cell_type": "code",
   "execution_count": 39,
   "metadata": {},
   "outputs": [
    {
     "ename": "PermissionError",
     "evalue": "[Errno 13] Permission denied: 'S:\\\\Projects/anime\\\\links/links_1_300.csv'",
     "output_type": "error",
     "traceback": [
      "\u001b[1;31m---------------------------------------------------------------------------\u001b[0m",
      "\u001b[1;31mPermissionError\u001b[0m                           Traceback (most recent call last)",
      "\u001b[1;32ms:\\Projects\\anime\\datasaving.ipynb Cell 3'\u001b[0m in \u001b[0;36m<cell line: 5>\u001b[1;34m()\u001b[0m\n\u001b[0;32m      <a href='vscode-notebook-cell:/s%3A/Projects/anime/datasaving.ipynb#ch0000008?line=2'>3</a>\u001b[0m link_data \u001b[39m=\u001b[39m {\u001b[39m'\u001b[39m\u001b[39mlinks\u001b[39m\u001b[39m'\u001b[39m: links}\n\u001b[0;32m      <a href='vscode-notebook-cell:/s%3A/Projects/anime/datasaving.ipynb#ch0000008?line=3'>4</a>\u001b[0m link_df \u001b[39m=\u001b[39m pd\u001b[39m.\u001b[39mDataFrame(link_data)\n\u001b[1;32m----> <a href='vscode-notebook-cell:/s%3A/Projects/anime/datasaving.ipynb#ch0000008?line=4'>5</a>\u001b[0m link_df\u001b[39m.\u001b[39;49mto_csv(\u001b[39m'\u001b[39;49m\u001b[39mS:\u001b[39;49m\u001b[39m\\\u001b[39;49m\u001b[39mProjects/anime\u001b[39;49m\u001b[39m\\\u001b[39;49m\u001b[39mlinks/links_1_300.csv\u001b[39;49m\u001b[39m'\u001b[39;49m,index\u001b[39m=\u001b[39;49m\u001b[39mFalse\u001b[39;49;00m)\n",
      "File \u001b[1;32mc:\\Users\\mvspr\\AppData\\Local\\Programs\\Python\\Python39\\lib\\site-packages\\pandas\\core\\generic.py:3551\u001b[0m, in \u001b[0;36mNDFrame.to_csv\u001b[1;34m(self, path_or_buf, sep, na_rep, float_format, columns, header, index, index_label, mode, encoding, compression, quoting, quotechar, line_terminator, chunksize, date_format, doublequote, escapechar, decimal, errors, storage_options)\u001b[0m\n\u001b[0;32m   <a href='file:///c%3A/Users/mvspr/AppData/Local/Programs/Python/Python39/lib/site-packages/pandas/core/generic.py?line=3539'>3540</a>\u001b[0m df \u001b[39m=\u001b[39m \u001b[39mself\u001b[39m \u001b[39mif\u001b[39;00m \u001b[39misinstance\u001b[39m(\u001b[39mself\u001b[39m, ABCDataFrame) \u001b[39melse\u001b[39;00m \u001b[39mself\u001b[39m\u001b[39m.\u001b[39mto_frame()\n\u001b[0;32m   <a href='file:///c%3A/Users/mvspr/AppData/Local/Programs/Python/Python39/lib/site-packages/pandas/core/generic.py?line=3541'>3542</a>\u001b[0m formatter \u001b[39m=\u001b[39m DataFrameFormatter(\n\u001b[0;32m   <a href='file:///c%3A/Users/mvspr/AppData/Local/Programs/Python/Python39/lib/site-packages/pandas/core/generic.py?line=3542'>3543</a>\u001b[0m     frame\u001b[39m=\u001b[39mdf,\n\u001b[0;32m   <a href='file:///c%3A/Users/mvspr/AppData/Local/Programs/Python/Python39/lib/site-packages/pandas/core/generic.py?line=3543'>3544</a>\u001b[0m     header\u001b[39m=\u001b[39mheader,\n\u001b[1;32m   (...)\u001b[0m\n\u001b[0;32m   <a href='file:///c%3A/Users/mvspr/AppData/Local/Programs/Python/Python39/lib/site-packages/pandas/core/generic.py?line=3547'>3548</a>\u001b[0m     decimal\u001b[39m=\u001b[39mdecimal,\n\u001b[0;32m   <a href='file:///c%3A/Users/mvspr/AppData/Local/Programs/Python/Python39/lib/site-packages/pandas/core/generic.py?line=3548'>3549</a>\u001b[0m )\n\u001b[1;32m-> <a href='file:///c%3A/Users/mvspr/AppData/Local/Programs/Python/Python39/lib/site-packages/pandas/core/generic.py?line=3550'>3551</a>\u001b[0m \u001b[39mreturn\u001b[39;00m DataFrameRenderer(formatter)\u001b[39m.\u001b[39;49mto_csv(\n\u001b[0;32m   <a href='file:///c%3A/Users/mvspr/AppData/Local/Programs/Python/Python39/lib/site-packages/pandas/core/generic.py?line=3551'>3552</a>\u001b[0m     path_or_buf,\n\u001b[0;32m   <a href='file:///c%3A/Users/mvspr/AppData/Local/Programs/Python/Python39/lib/site-packages/pandas/core/generic.py?line=3552'>3553</a>\u001b[0m     line_terminator\u001b[39m=\u001b[39;49mline_terminator,\n\u001b[0;32m   <a href='file:///c%3A/Users/mvspr/AppData/Local/Programs/Python/Python39/lib/site-packages/pandas/core/generic.py?line=3553'>3554</a>\u001b[0m     sep\u001b[39m=\u001b[39;49msep,\n\u001b[0;32m   <a href='file:///c%3A/Users/mvspr/AppData/Local/Programs/Python/Python39/lib/site-packages/pandas/core/generic.py?line=3554'>3555</a>\u001b[0m     encoding\u001b[39m=\u001b[39;49mencoding,\n\u001b[0;32m   <a href='file:///c%3A/Users/mvspr/AppData/Local/Programs/Python/Python39/lib/site-packages/pandas/core/generic.py?line=3555'>3556</a>\u001b[0m     errors\u001b[39m=\u001b[39;49merrors,\n\u001b[0;32m   <a href='file:///c%3A/Users/mvspr/AppData/Local/Programs/Python/Python39/lib/site-packages/pandas/core/generic.py?line=3556'>3557</a>\u001b[0m     compression\u001b[39m=\u001b[39;49mcompression,\n\u001b[0;32m   <a href='file:///c%3A/Users/mvspr/AppData/Local/Programs/Python/Python39/lib/site-packages/pandas/core/generic.py?line=3557'>3558</a>\u001b[0m     quoting\u001b[39m=\u001b[39;49mquoting,\n\u001b[0;32m   <a href='file:///c%3A/Users/mvspr/AppData/Local/Programs/Python/Python39/lib/site-packages/pandas/core/generic.py?line=3558'>3559</a>\u001b[0m     columns\u001b[39m=\u001b[39;49mcolumns,\n\u001b[0;32m   <a href='file:///c%3A/Users/mvspr/AppData/Local/Programs/Python/Python39/lib/site-packages/pandas/core/generic.py?line=3559'>3560</a>\u001b[0m     index_label\u001b[39m=\u001b[39;49mindex_label,\n\u001b[0;32m   <a href='file:///c%3A/Users/mvspr/AppData/Local/Programs/Python/Python39/lib/site-packages/pandas/core/generic.py?line=3560'>3561</a>\u001b[0m     mode\u001b[39m=\u001b[39;49mmode,\n\u001b[0;32m   <a href='file:///c%3A/Users/mvspr/AppData/Local/Programs/Python/Python39/lib/site-packages/pandas/core/generic.py?line=3561'>3562</a>\u001b[0m     chunksize\u001b[39m=\u001b[39;49mchunksize,\n\u001b[0;32m   <a href='file:///c%3A/Users/mvspr/AppData/Local/Programs/Python/Python39/lib/site-packages/pandas/core/generic.py?line=3562'>3563</a>\u001b[0m     quotechar\u001b[39m=\u001b[39;49mquotechar,\n\u001b[0;32m   <a href='file:///c%3A/Users/mvspr/AppData/Local/Programs/Python/Python39/lib/site-packages/pandas/core/generic.py?line=3563'>3564</a>\u001b[0m     date_format\u001b[39m=\u001b[39;49mdate_format,\n\u001b[0;32m   <a href='file:///c%3A/Users/mvspr/AppData/Local/Programs/Python/Python39/lib/site-packages/pandas/core/generic.py?line=3564'>3565</a>\u001b[0m     doublequote\u001b[39m=\u001b[39;49mdoublequote,\n\u001b[0;32m   <a href='file:///c%3A/Users/mvspr/AppData/Local/Programs/Python/Python39/lib/site-packages/pandas/core/generic.py?line=3565'>3566</a>\u001b[0m     escapechar\u001b[39m=\u001b[39;49mescapechar,\n\u001b[0;32m   <a href='file:///c%3A/Users/mvspr/AppData/Local/Programs/Python/Python39/lib/site-packages/pandas/core/generic.py?line=3566'>3567</a>\u001b[0m     storage_options\u001b[39m=\u001b[39;49mstorage_options,\n\u001b[0;32m   <a href='file:///c%3A/Users/mvspr/AppData/Local/Programs/Python/Python39/lib/site-packages/pandas/core/generic.py?line=3567'>3568</a>\u001b[0m )\n",
      "File \u001b[1;32mc:\\Users\\mvspr\\AppData\\Local\\Programs\\Python\\Python39\\lib\\site-packages\\pandas\\io\\formats\\format.py:1180\u001b[0m, in \u001b[0;36mDataFrameRenderer.to_csv\u001b[1;34m(self, path_or_buf, encoding, sep, columns, index_label, mode, compression, quoting, quotechar, line_terminator, chunksize, date_format, doublequote, escapechar, errors, storage_options)\u001b[0m\n\u001b[0;32m   <a href='file:///c%3A/Users/mvspr/AppData/Local/Programs/Python/Python39/lib/site-packages/pandas/io/formats/format.py?line=1158'>1159</a>\u001b[0m     created_buffer \u001b[39m=\u001b[39m \u001b[39mFalse\u001b[39;00m\n\u001b[0;32m   <a href='file:///c%3A/Users/mvspr/AppData/Local/Programs/Python/Python39/lib/site-packages/pandas/io/formats/format.py?line=1160'>1161</a>\u001b[0m csv_formatter \u001b[39m=\u001b[39m CSVFormatter(\n\u001b[0;32m   <a href='file:///c%3A/Users/mvspr/AppData/Local/Programs/Python/Python39/lib/site-packages/pandas/io/formats/format.py?line=1161'>1162</a>\u001b[0m     path_or_buf\u001b[39m=\u001b[39mpath_or_buf,\n\u001b[0;32m   <a href='file:///c%3A/Users/mvspr/AppData/Local/Programs/Python/Python39/lib/site-packages/pandas/io/formats/format.py?line=1162'>1163</a>\u001b[0m     line_terminator\u001b[39m=\u001b[39mline_terminator,\n\u001b[1;32m   (...)\u001b[0m\n\u001b[0;32m   <a href='file:///c%3A/Users/mvspr/AppData/Local/Programs/Python/Python39/lib/site-packages/pandas/io/formats/format.py?line=1177'>1178</a>\u001b[0m     formatter\u001b[39m=\u001b[39m\u001b[39mself\u001b[39m\u001b[39m.\u001b[39mfmt,\n\u001b[0;32m   <a href='file:///c%3A/Users/mvspr/AppData/Local/Programs/Python/Python39/lib/site-packages/pandas/io/formats/format.py?line=1178'>1179</a>\u001b[0m )\n\u001b[1;32m-> <a href='file:///c%3A/Users/mvspr/AppData/Local/Programs/Python/Python39/lib/site-packages/pandas/io/formats/format.py?line=1179'>1180</a>\u001b[0m csv_formatter\u001b[39m.\u001b[39;49msave()\n\u001b[0;32m   <a href='file:///c%3A/Users/mvspr/AppData/Local/Programs/Python/Python39/lib/site-packages/pandas/io/formats/format.py?line=1181'>1182</a>\u001b[0m \u001b[39mif\u001b[39;00m created_buffer:\n\u001b[0;32m   <a href='file:///c%3A/Users/mvspr/AppData/Local/Programs/Python/Python39/lib/site-packages/pandas/io/formats/format.py?line=1182'>1183</a>\u001b[0m     \u001b[39massert\u001b[39;00m \u001b[39misinstance\u001b[39m(path_or_buf, StringIO)\n",
      "File \u001b[1;32mc:\\Users\\mvspr\\AppData\\Local\\Programs\\Python\\Python39\\lib\\site-packages\\pandas\\io\\formats\\csvs.py:241\u001b[0m, in \u001b[0;36mCSVFormatter.save\u001b[1;34m(self)\u001b[0m\n\u001b[0;32m    <a href='file:///c%3A/Users/mvspr/AppData/Local/Programs/Python/Python39/lib/site-packages/pandas/io/formats/csvs.py?line=236'>237</a>\u001b[0m \u001b[39m\"\"\"\u001b[39;00m\n\u001b[0;32m    <a href='file:///c%3A/Users/mvspr/AppData/Local/Programs/Python/Python39/lib/site-packages/pandas/io/formats/csvs.py?line=237'>238</a>\u001b[0m \u001b[39mCreate the writer & save.\u001b[39;00m\n\u001b[0;32m    <a href='file:///c%3A/Users/mvspr/AppData/Local/Programs/Python/Python39/lib/site-packages/pandas/io/formats/csvs.py?line=238'>239</a>\u001b[0m \u001b[39m\"\"\"\u001b[39;00m\n\u001b[0;32m    <a href='file:///c%3A/Users/mvspr/AppData/Local/Programs/Python/Python39/lib/site-packages/pandas/io/formats/csvs.py?line=239'>240</a>\u001b[0m \u001b[39m# apply compression and byte/text conversion\u001b[39;00m\n\u001b[1;32m--> <a href='file:///c%3A/Users/mvspr/AppData/Local/Programs/Python/Python39/lib/site-packages/pandas/io/formats/csvs.py?line=240'>241</a>\u001b[0m \u001b[39mwith\u001b[39;00m get_handle(\n\u001b[0;32m    <a href='file:///c%3A/Users/mvspr/AppData/Local/Programs/Python/Python39/lib/site-packages/pandas/io/formats/csvs.py?line=241'>242</a>\u001b[0m     \u001b[39mself\u001b[39;49m\u001b[39m.\u001b[39;49mfilepath_or_buffer,\n\u001b[0;32m    <a href='file:///c%3A/Users/mvspr/AppData/Local/Programs/Python/Python39/lib/site-packages/pandas/io/formats/csvs.py?line=242'>243</a>\u001b[0m     \u001b[39mself\u001b[39;49m\u001b[39m.\u001b[39;49mmode,\n\u001b[0;32m    <a href='file:///c%3A/Users/mvspr/AppData/Local/Programs/Python/Python39/lib/site-packages/pandas/io/formats/csvs.py?line=243'>244</a>\u001b[0m     encoding\u001b[39m=\u001b[39;49m\u001b[39mself\u001b[39;49m\u001b[39m.\u001b[39;49mencoding,\n\u001b[0;32m    <a href='file:///c%3A/Users/mvspr/AppData/Local/Programs/Python/Python39/lib/site-packages/pandas/io/formats/csvs.py?line=244'>245</a>\u001b[0m     errors\u001b[39m=\u001b[39;49m\u001b[39mself\u001b[39;49m\u001b[39m.\u001b[39;49merrors,\n\u001b[0;32m    <a href='file:///c%3A/Users/mvspr/AppData/Local/Programs/Python/Python39/lib/site-packages/pandas/io/formats/csvs.py?line=245'>246</a>\u001b[0m     compression\u001b[39m=\u001b[39;49m\u001b[39mself\u001b[39;49m\u001b[39m.\u001b[39;49mcompression,\n\u001b[0;32m    <a href='file:///c%3A/Users/mvspr/AppData/Local/Programs/Python/Python39/lib/site-packages/pandas/io/formats/csvs.py?line=246'>247</a>\u001b[0m     storage_options\u001b[39m=\u001b[39;49m\u001b[39mself\u001b[39;49m\u001b[39m.\u001b[39;49mstorage_options,\n\u001b[0;32m    <a href='file:///c%3A/Users/mvspr/AppData/Local/Programs/Python/Python39/lib/site-packages/pandas/io/formats/csvs.py?line=247'>248</a>\u001b[0m ) \u001b[39mas\u001b[39;00m handles:\n\u001b[0;32m    <a href='file:///c%3A/Users/mvspr/AppData/Local/Programs/Python/Python39/lib/site-packages/pandas/io/formats/csvs.py?line=248'>249</a>\u001b[0m \n\u001b[0;32m    <a href='file:///c%3A/Users/mvspr/AppData/Local/Programs/Python/Python39/lib/site-packages/pandas/io/formats/csvs.py?line=249'>250</a>\u001b[0m     \u001b[39m# Note: self.encoding is irrelevant here\u001b[39;00m\n\u001b[0;32m    <a href='file:///c%3A/Users/mvspr/AppData/Local/Programs/Python/Python39/lib/site-packages/pandas/io/formats/csvs.py?line=250'>251</a>\u001b[0m     \u001b[39mself\u001b[39m\u001b[39m.\u001b[39mwriter \u001b[39m=\u001b[39m csvlib\u001b[39m.\u001b[39mwriter(\n\u001b[0;32m    <a href='file:///c%3A/Users/mvspr/AppData/Local/Programs/Python/Python39/lib/site-packages/pandas/io/formats/csvs.py?line=251'>252</a>\u001b[0m         handles\u001b[39m.\u001b[39mhandle,\n\u001b[0;32m    <a href='file:///c%3A/Users/mvspr/AppData/Local/Programs/Python/Python39/lib/site-packages/pandas/io/formats/csvs.py?line=252'>253</a>\u001b[0m         lineterminator\u001b[39m=\u001b[39m\u001b[39mself\u001b[39m\u001b[39m.\u001b[39mline_terminator,\n\u001b[1;32m   (...)\u001b[0m\n\u001b[0;32m    <a href='file:///c%3A/Users/mvspr/AppData/Local/Programs/Python/Python39/lib/site-packages/pandas/io/formats/csvs.py?line=257'>258</a>\u001b[0m         quotechar\u001b[39m=\u001b[39m\u001b[39mself\u001b[39m\u001b[39m.\u001b[39mquotechar,\n\u001b[0;32m    <a href='file:///c%3A/Users/mvspr/AppData/Local/Programs/Python/Python39/lib/site-packages/pandas/io/formats/csvs.py?line=258'>259</a>\u001b[0m     )\n\u001b[0;32m    <a href='file:///c%3A/Users/mvspr/AppData/Local/Programs/Python/Python39/lib/site-packages/pandas/io/formats/csvs.py?line=260'>261</a>\u001b[0m     \u001b[39mself\u001b[39m\u001b[39m.\u001b[39m_save()\n",
      "File \u001b[1;32mc:\\Users\\mvspr\\AppData\\Local\\Programs\\Python\\Python39\\lib\\site-packages\\pandas\\io\\common.py:789\u001b[0m, in \u001b[0;36mget_handle\u001b[1;34m(path_or_buf, mode, encoding, compression, memory_map, is_text, errors, storage_options)\u001b[0m\n\u001b[0;32m    <a href='file:///c%3A/Users/mvspr/AppData/Local/Programs/Python/Python39/lib/site-packages/pandas/io/common.py?line=783'>784</a>\u001b[0m \u001b[39melif\u001b[39;00m \u001b[39misinstance\u001b[39m(handle, \u001b[39mstr\u001b[39m):\n\u001b[0;32m    <a href='file:///c%3A/Users/mvspr/AppData/Local/Programs/Python/Python39/lib/site-packages/pandas/io/common.py?line=784'>785</a>\u001b[0m     \u001b[39m# Check whether the filename is to be opened in binary mode.\u001b[39;00m\n\u001b[0;32m    <a href='file:///c%3A/Users/mvspr/AppData/Local/Programs/Python/Python39/lib/site-packages/pandas/io/common.py?line=785'>786</a>\u001b[0m     \u001b[39m# Binary mode does not support 'encoding' and 'newline'.\u001b[39;00m\n\u001b[0;32m    <a href='file:///c%3A/Users/mvspr/AppData/Local/Programs/Python/Python39/lib/site-packages/pandas/io/common.py?line=786'>787</a>\u001b[0m     \u001b[39mif\u001b[39;00m ioargs\u001b[39m.\u001b[39mencoding \u001b[39mand\u001b[39;00m \u001b[39m\"\u001b[39m\u001b[39mb\u001b[39m\u001b[39m\"\u001b[39m \u001b[39mnot\u001b[39;00m \u001b[39min\u001b[39;00m ioargs\u001b[39m.\u001b[39mmode:\n\u001b[0;32m    <a href='file:///c%3A/Users/mvspr/AppData/Local/Programs/Python/Python39/lib/site-packages/pandas/io/common.py?line=787'>788</a>\u001b[0m         \u001b[39m# Encoding\u001b[39;00m\n\u001b[1;32m--> <a href='file:///c%3A/Users/mvspr/AppData/Local/Programs/Python/Python39/lib/site-packages/pandas/io/common.py?line=788'>789</a>\u001b[0m         handle \u001b[39m=\u001b[39m \u001b[39mopen\u001b[39;49m(\n\u001b[0;32m    <a href='file:///c%3A/Users/mvspr/AppData/Local/Programs/Python/Python39/lib/site-packages/pandas/io/common.py?line=789'>790</a>\u001b[0m             handle,\n\u001b[0;32m    <a href='file:///c%3A/Users/mvspr/AppData/Local/Programs/Python/Python39/lib/site-packages/pandas/io/common.py?line=790'>791</a>\u001b[0m             ioargs\u001b[39m.\u001b[39;49mmode,\n\u001b[0;32m    <a href='file:///c%3A/Users/mvspr/AppData/Local/Programs/Python/Python39/lib/site-packages/pandas/io/common.py?line=791'>792</a>\u001b[0m             encoding\u001b[39m=\u001b[39;49mioargs\u001b[39m.\u001b[39;49mencoding,\n\u001b[0;32m    <a href='file:///c%3A/Users/mvspr/AppData/Local/Programs/Python/Python39/lib/site-packages/pandas/io/common.py?line=792'>793</a>\u001b[0m             errors\u001b[39m=\u001b[39;49merrors,\n\u001b[0;32m    <a href='file:///c%3A/Users/mvspr/AppData/Local/Programs/Python/Python39/lib/site-packages/pandas/io/common.py?line=793'>794</a>\u001b[0m             newline\u001b[39m=\u001b[39;49m\u001b[39m\"\u001b[39;49m\u001b[39m\"\u001b[39;49m,\n\u001b[0;32m    <a href='file:///c%3A/Users/mvspr/AppData/Local/Programs/Python/Python39/lib/site-packages/pandas/io/common.py?line=794'>795</a>\u001b[0m         )\n\u001b[0;32m    <a href='file:///c%3A/Users/mvspr/AppData/Local/Programs/Python/Python39/lib/site-packages/pandas/io/common.py?line=795'>796</a>\u001b[0m     \u001b[39melse\u001b[39;00m:\n\u001b[0;32m    <a href='file:///c%3A/Users/mvspr/AppData/Local/Programs/Python/Python39/lib/site-packages/pandas/io/common.py?line=796'>797</a>\u001b[0m         \u001b[39m# Binary mode\u001b[39;00m\n\u001b[0;32m    <a href='file:///c%3A/Users/mvspr/AppData/Local/Programs/Python/Python39/lib/site-packages/pandas/io/common.py?line=797'>798</a>\u001b[0m         handle \u001b[39m=\u001b[39m \u001b[39mopen\u001b[39m(handle, ioargs\u001b[39m.\u001b[39mmode)\n",
      "\u001b[1;31mPermissionError\u001b[0m: [Errno 13] Permission denied: 'S:\\\\Projects/anime\\\\links/links_1_300.csv'"
     ]
    }
   ],
   "source": [
    "import pandas as pd\n",
    "\n",
    "link_data = {'links': links}\n",
    "link_df = pd.DataFrame(link_data)\n",
    "link_df.to_csv('S:\\Projects/anime\\links/links_1_300.csv',index=False)"
   ]
  },
  {
   "cell_type": "code",
   "execution_count": 40,
   "metadata": {},
   "outputs": [],
   "source": [
    "from selenium.common.exceptions import NoSuchElementException\n",
    "\n",
    "def exist_by_path(path):\n",
    "    try:\n",
    "        driver.find_element(By.XPATH, path)\n",
    "    except NoSuchElementException:\n",
    "        return False\n",
    "    return True\n",
    "\n",
    "def exist_by_selector(path):\n",
    "    try:\n",
    "        driver.find_element(By.CSS_SELECTOR, path)\n",
    "    except NoSuchElementException:\n",
    "        return False\n",
    "    return True"
   ]
  },
  {
   "cell_type": "code",
   "execution_count": 41,
   "metadata": {},
   "outputs": [],
   "source": [
    "from selenium.webdriver.support import expected_conditions as EC\n",
    "\n",
    "episodes = []\n",
    "studios = []\n",
    "genres = []\n",
    "themes = []\n",
    "demographics = []\n",
    "ratings = []\n",
    "scores = []\n",
    "ranks = []\n",
    "popularities = []\n",
    "members = []\n",
    "\n",
    "for link in links:\n",
    "    driver.get(link)\n",
    "    #episodes\n",
    "    ep_path = '//*[contains(text(), \"Episodes:\")]/parent::div'\n",
    "    if exist_by_path(ep_path):\n",
    "        episode = wait.until(EC.visibility_of_element_located((By.XPATH, ep_path)))\n",
    "        episode = episode.text\n",
    "        episode = episode.replace('Episodes: ','')\n",
    "    else:\n",
    "        episode = 'NA'\n",
    "    episodes.append(episode)\n",
    "    \n",
    "    #studios\n",
    "    st_path = '//*[contains(text(),\"Studio\")]/parent::div'\n",
    "    if exist_by_path(st_path):\n",
    "        studio = wait.until(EC.visibility_of_element_located((By.XPATH, st_path)))\n",
    "        studio = studio.text\n",
    "        studio = studio.replace('Studios: ','')\n",
    "    else:\n",
    "        studio = 'NA'\n",
    "    studios.append(studio)\n",
    "\n",
    "    #genres\n",
    "    ge_path = '//*[contains(text(),\"Genre\")]/parent::div'\n",
    "    if exist_by_path(ge_path):\n",
    "        genre = wait.until(EC.visibility_of_element_located((By.XPATH, ge_path)))\n",
    "        genre = genre.text\n",
    "        genre = genre.replace('Genres: ','')\n",
    "    else:\n",
    "        genre = 'NA'\n",
    "    genres.append(genre)\n",
    "\n",
    "    #themes\n",
    "    th_path = '//*[contains(text(),\"Theme\")]/parent::div'\n",
    "    if exist_by_path(th_path):\n",
    "        theme = wait.until(EC.visibility_of_element_located((By.XPATH, th_path)))\n",
    "        theme = theme.text\n",
    "        theme = theme.replace('Themes: ','')\n",
    "    else:\n",
    "        theme = 'NA'\n",
    "    themes.append(theme)\n",
    "\n",
    "    #ratings\n",
    "    ra_path = '//*[contains(text(),\"Rating\")]/parent::div'\n",
    "    if exist_by_path(ra_path):\n",
    "        rating = wait.until(EC.visibility_of_element_located((By.XPATH,ra_path)))\n",
    "        rating = rating.text\n",
    "        rating = rating.replace(\"Rating: \",'')\n",
    "    else:\n",
    "        rating = 'NA'\n",
    "    ratings.append(rating)\n",
    "\n",
    "    #scores\n",
    "    sc_path = 'div[class*=\"score-label\"]'\n",
    "    if exist_by_selector(sc_path):\n",
    "        score = wait.until(EC.visibility_of_element_located((By.CSS_SELECTOR,sc_path)))\n",
    "        score = score.text\n",
    "    else:\n",
    "        score = 'NA'\n",
    "    scores.append(score)\n",
    "\n",
    "    #ranks\n",
    "    ran_path = 'span[class=\"numbers ranked\"]'\n",
    "    if exist_by_selector(ran_path):\n",
    "        ranked = wait.until(EC.visibility_of_element_located((By.CSS_SELECTOR,ran_path)))\n",
    "        ranked = ranked.text\n",
    "        ranked = ranked.replace('Ranked #','')\n",
    "    else:\n",
    "        ranked = 'NA'\n",
    "    ranks.append(ranked)\n",
    "\n",
    "    #popularities\n",
    "    po_path = 'span[class=\"numbers popularity\"]'\n",
    "    if exist_by_selector(po_path):\n",
    "        popularity = wait.until(EC.visibility_of_element_located((By.CSS_SELECTOR, po_path)))\n",
    "        popularity = popularity.text\n",
    "        popularity = popularity.replace('Popularity #','')\n",
    "    else:\n",
    "        popularity = 'NA'\n",
    "    popularities.append(popularity)\n",
    "\n",
    "    #members\n",
    "    me_path = 'span[class=\"numbers members\"]'\n",
    "    if exist_by_selector(me_path):\n",
    "        member = wait.until(EC.visibility_of_element_located((By.CSS_SELECTOR,me_path)))\n",
    "        member = member.text\n",
    "        member = member.replace('Members ','')\n",
    "    else:\n",
    "        member = 'NA'\n",
    "    members.append(member)"
   ]
  },
  {
   "cell_type": "code",
   "execution_count": 42,
   "metadata": {},
   "outputs": [],
   "source": [
    "import pandas as pd\n",
    "\n",
    "data = {'Episodes': episodes, 'Studios': studios, 'Genres': genres, 'Themes': themes, 'Ratings': ratings, 'Scores': scores, 'Popularity': popularities, 'Members': members}\n",
    "dataFrame = pd.DataFrame(data)\n",
    "dataFrame.to_csv('S:\\Projects/anime\\data/data_1_300.csv',index=False)"
   ]
  },
  {
   "cell_type": "code",
   "execution_count": null,
   "metadata": {},
   "outputs": [],
   "source": []
  },
  {
   "cell_type": "code",
   "execution_count": null,
   "metadata": {},
   "outputs": [],
   "source": []
  }
 ],
 "metadata": {
  "interpreter": {
   "hash": "544df186037e6dff05340f217e24fcbd5596a5bc7a12cb3c27f45aa01bd7925a"
  },
  "kernelspec": {
   "display_name": "Python 3.9.7 64-bit",
   "language": "python",
   "name": "python3"
  },
  "language_info": {
   "codemirror_mode": {
    "name": "ipython",
    "version": 3
   },
   "file_extension": ".py",
   "mimetype": "text/x-python",
   "name": "python",
   "nbconvert_exporter": "python",
   "pygments_lexer": "ipython3",
   "version": "3.9.7"
  },
  "orig_nbformat": 4
 },
 "nbformat": 4,
 "nbformat_minor": 2
}
